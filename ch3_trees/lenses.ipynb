{
 "cells": [
  {
   "cell_type": "code",
   "execution_count": 1,
   "metadata": {
    "collapsed": false
   },
   "outputs": [],
   "source": [
    "import csv\n",
    "import trees\n",
    "import trees_plotter"
   ]
  },
  {
   "cell_type": "code",
   "execution_count": 2,
   "metadata": {
    "collapsed": false
   },
   "outputs": [
    {
     "data": {
      "text/plain": [
       "[['1', '', '1', '', '1', '', '1', '', '1', '', '3'],\n",
       " ['2', '', '1', '', '1', '', '1', '', '2', '', '2'],\n",
       " ['3', '', '1', '', '1', '', '2', '', '1', '', '3'],\n",
       " ['4', '', '1', '', '1', '', '2', '', '2', '', '1'],\n",
       " ['5', '', '1', '', '2', '', '1', '', '1', '', '3'],\n",
       " ['6', '', '1', '', '2', '', '1', '', '2', '', '2'],\n",
       " ['7', '', '1', '', '2', '', '2', '', '1', '', '3'],\n",
       " ['8', '', '1', '', '2', '', '2', '', '2', '', '1'],\n",
       " ['9', '', '2', '', '1', '', '1', '', '1', '', '3'],\n",
       " ['10', '2', '', '1', '', '1', '', '2', '', '2'],\n",
       " ['11', '2', '', '1', '', '2', '', '1', '', '3'],\n",
       " ['12', '2', '', '1', '', '2', '', '2', '', '1'],\n",
       " ['13', '2', '', '2', '', '1', '', '1', '', '3'],\n",
       " ['14', '2', '', '2', '', '1', '', '2', '', '2'],\n",
       " ['15', '2', '', '2', '', '2', '', '1', '', '3'],\n",
       " ['16', '2', '', '2', '', '2', '', '2', '', '3'],\n",
       " ['17', '3', '', '1', '', '1', '', '1', '', '3'],\n",
       " ['18', '3', '', '1', '', '1', '', '2', '', '3'],\n",
       " ['19', '3', '', '1', '', '2', '', '1', '', '3'],\n",
       " ['20', '3', '', '1', '', '2', '', '2', '', '1'],\n",
       " ['21', '3', '', '2', '', '1', '', '1', '', '3'],\n",
       " ['22', '3', '', '2', '', '1', '', '2', '', '2'],\n",
       " ['23', '3', '', '2', '', '2', '', '1', '', '3'],\n",
       " ['24', '3', '', '2', '', '2', '', '2', '', '3']]"
      ]
     },
     "execution_count": 2,
     "metadata": {},
     "output_type": "execute_result"
    }
   ],
   "source": [
    "# Use decision trees to analyze a classical dataset \n",
    "# with data about lenses\n",
    "\n",
    "lenses = []\n",
    "with open('../data/ch3/lenses.data', 'r') as fl:\n",
    "    lenses_reader = csv.reader(fl, delimiter=' ')\n",
    "    for row in lenses_reader:\n",
    "        lenses.append(row)\n",
    "\n",
    "lenses"
   ]
  },
  {
   "cell_type": "code",
   "execution_count": 3,
   "metadata": {
    "collapsed": false
   },
   "outputs": [
    {
     "data": {
      "text/plain": [
       "[['1', '1', '1', '1', '1', '3'],\n",
       " ['2', '1', '1', '1', '2', '2'],\n",
       " ['3', '1', '1', '2', '1', '3'],\n",
       " ['4', '1', '1', '2', '2', '1'],\n",
       " ['5', '1', '2', '1', '1', '3'],\n",
       " ['6', '1', '2', '1', '2', '2'],\n",
       " ['7', '1', '2', '2', '1', '3'],\n",
       " ['8', '1', '2', '2', '2', '1'],\n",
       " ['9', '2', '1', '1', '1', '3'],\n",
       " ['10', '2', '1', '1', '2', '2'],\n",
       " ['11', '2', '1', '2', '1', '3'],\n",
       " ['12', '2', '1', '2', '2', '1'],\n",
       " ['13', '2', '2', '1', '1', '3'],\n",
       " ['14', '2', '2', '1', '2', '2'],\n",
       " ['15', '2', '2', '2', '1', '3'],\n",
       " ['16', '2', '2', '2', '2', '3'],\n",
       " ['17', '3', '1', '1', '1', '3'],\n",
       " ['18', '3', '1', '1', '2', '3'],\n",
       " ['19', '3', '1', '2', '1', '3'],\n",
       " ['20', '3', '1', '2', '2', '1'],\n",
       " ['21', '3', '2', '1', '1', '3'],\n",
       " ['22', '3', '2', '1', '2', '2'],\n",
       " ['23', '3', '2', '2', '1', '3'],\n",
       " ['24', '3', '2', '2', '2', '3']]"
      ]
     },
     "execution_count": 3,
     "metadata": {},
     "output_type": "execute_result"
    }
   ],
   "source": [
    "lenses_clean = [[x for x in user if x] for user in lenses]\n",
    "\n",
    "lenses_clean"
   ]
  },
  {
   "cell_type": "code",
   "execution_count": 4,
   "metadata": {
    "collapsed": false
   },
   "outputs": [
    {
     "data": {
      "text/plain": [
       "['age', 'prescription', 'astigmatic', 'tear_rate']"
      ]
     },
     "execution_count": 4,
     "metadata": {},
     "output_type": "execute_result"
    }
   ],
   "source": [
    "lenses_labels = ['age', 'prescription', 'astigmatic', 'tear_rate']\n",
    "\n",
    "lenses_labels"
   ]
  },
  {
   "cell_type": "code",
   "execution_count": 5,
   "metadata": {
    "collapsed": false
   },
   "outputs": [
    {
     "data": {
      "text/plain": [
       "[['1', '1', '1', '1', '3'],\n",
       " ['1', '1', '1', '2', '2'],\n",
       " ['1', '1', '2', '1', '3'],\n",
       " ['1', '1', '2', '2', '1'],\n",
       " ['1', '2', '1', '1', '3'],\n",
       " ['1', '2', '1', '2', '2'],\n",
       " ['1', '2', '2', '1', '3'],\n",
       " ['1', '2', '2', '2', '1'],\n",
       " ['2', '1', '1', '1', '3'],\n",
       " ['2', '1', '1', '2', '2'],\n",
       " ['2', '1', '2', '1', '3'],\n",
       " ['2', '1', '2', '2', '1'],\n",
       " ['2', '2', '1', '1', '3'],\n",
       " ['2', '2', '1', '2', '2'],\n",
       " ['2', '2', '2', '1', '3'],\n",
       " ['2', '2', '2', '2', '3'],\n",
       " ['3', '1', '1', '1', '3'],\n",
       " ['3', '1', '1', '2', '3'],\n",
       " ['3', '1', '2', '1', '3'],\n",
       " ['3', '1', '2', '2', '1'],\n",
       " ['3', '2', '1', '1', '3'],\n",
       " ['3', '2', '1', '2', '2'],\n",
       " ['3', '2', '2', '1', '3'],\n",
       " ['3', '2', '2', '2', '3']]"
      ]
     },
     "execution_count": 5,
     "metadata": {},
     "output_type": "execute_result"
    }
   ],
   "source": [
    "lenses_no_user = []\n",
    "for user in lenses_clean:\n",
    "    user.pop(0)\n",
    "    lenses_no_user.append(user)\n",
    "\n",
    "lenses_no_user"
   ]
  },
  {
   "cell_type": "code",
   "execution_count": null,
   "metadata": {
    "collapsed": false
   },
   "outputs": [
    {
     "data": {
      "text/plain": [
       "{'tear_rate': {'1': '3',\n",
       "  '2': {'astigmatic': {'1': {'age': {'1': '2',\n",
       "      '2': '2',\n",
       "      '3': {'prescription': {'1': '3', '2': '2'}}}},\n",
       "    '2': {'prescription': {'1': '1',\n",
       "      '2': {'age': {'1': '1', '2': '3', '3': '3'}}}}}}}}"
      ]
     },
     "execution_count": 6,
     "metadata": {},
     "output_type": "execute_result"
    }
   ],
   "source": [
    "lenses_tree = trees.create_tree(lenses_no_user, lenses_labels)\n",
    "\n",
    "lenses_tree"
   ]
  },
  {
   "cell_type": "code",
   "execution_count": null,
   "metadata": {
    "collapsed": false
   },
   "outputs": [],
   "source": [
    "trees_plotter.create_tree_plot(lenses_tree)"
   ]
  },
  {
   "cell_type": "code",
   "execution_count": null,
   "metadata": {
    "collapsed": true
   },
   "outputs": [],
   "source": []
  }
 ],
 "metadata": {
  "kernelspec": {
   "display_name": "Python 2",
   "language": "python",
   "name": "python2"
  },
  "language_info": {
   "codemirror_mode": {
    "name": "ipython",
    "version": 2
   },
   "file_extension": ".py",
   "mimetype": "text/x-python",
   "name": "python",
   "nbconvert_exporter": "python",
   "pygments_lexer": "ipython2",
   "version": "2.7.9"
  }
 },
 "nbformat": 4,
 "nbformat_minor": 0
}
